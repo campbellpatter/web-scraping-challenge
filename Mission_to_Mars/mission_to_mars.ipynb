{
 "cells": [
  {
   "cell_type": "code",
   "execution_count": 98,
   "metadata": {},
   "outputs": [],
   "source": [
    "from splinter import Browser\n",
    "from bs4 import BeautifulSoup\n",
    "import time\n",
    "import pandas as pd"
   ]
  },
  {
   "cell_type": "markdown",
   "metadata": {},
   "source": [
    "## Step 1 - Scraping"
   ]
  },
  {
   "cell_type": "markdown",
   "metadata": {},
   "source": [
    "## Get Mars Article"
   ]
  },
  {
   "cell_type": "code",
   "execution_count": 99,
   "metadata": {},
   "outputs": [],
   "source": [
    "executable_path = {'executable_path': '/usr/local/bin/chromedriver'}\n",
    "browser = Browser('chrome', **executable_path, headless=False)"
   ]
  },
  {
   "cell_type": "code",
   "execution_count": 100,
   "metadata": {},
   "outputs": [],
   "source": [
    "url = 'https://mars.nasa.gov/news/?page=0&per_page=40&order=publish_date+desc%2Ccreated_at+desc&search=&category=19%2C165%2C184%2C204&blank_scope=Latest'\n",
    "browser.visit(url)\n",
    "time.sleep(2)\n",
    "html = browser.html\n",
    "soup = BeautifulSoup(html, 'html.parser')\n",
    "#print(soup.prettify())"
   ]
  },
  {
   "cell_type": "code",
   "execution_count": 101,
   "metadata": {},
   "outputs": [],
   "source": [
    "titles = soup.find_all('div', class_='content_title')\n",
    "news_title = titles[0].text.strip()"
   ]
  },
  {
   "cell_type": "code",
   "execution_count": 102,
   "metadata": {},
   "outputs": [],
   "source": [
    "paragraphs = soup.find_all('div', class_='article_teaser_body')\n",
    "news_p = paragraphs[0].text.strip()"
   ]
  },
  {
   "cell_type": "markdown",
   "metadata": {},
   "source": [
    "## Get Featured Image"
   ]
  },
  {
   "cell_type": "code",
   "execution_count": 103,
   "metadata": {},
   "outputs": [],
   "source": [
    "url = 'https://www.jpl.nasa.gov/spaceimages/?search=mars&category=featured#submit'\n",
    "browser.visit(url)\n",
    "browser.click_link_by_partial_text('FULL IMAGE')"
   ]
  },
  {
   "cell_type": "code",
   "execution_count": 104,
   "metadata": {},
   "outputs": [],
   "source": [
    "featured_image_url = 'https://www.jpl.nasa.gov/spaceimages/images/mediumsize/PIA16029_ip.jpg'"
   ]
  },
  {
   "cell_type": "markdown",
   "metadata": {},
   "source": [
    "## Get Mars Weather"
   ]
  },
  {
   "cell_type": "code",
   "execution_count": 105,
   "metadata": {},
   "outputs": [],
   "source": [
    "url = 'https://twitter.com/marswxreport?lang=en'\n",
    "browser.visit(url)\n",
    "html = browser.html\n",
    "soup = BeautifulSoup(html, 'html.parser')"
   ]
  },
  {
   "cell_type": "code",
   "execution_count": 106,
   "metadata": {},
   "outputs": [],
   "source": [
    "mars_weather = soup.find_all('p', class_='TweetTextSize TweetTextSize--normal js-tweet-text tweet-text')[0].text.strip()"
   ]
  },
  {
   "cell_type": "markdown",
   "metadata": {},
   "source": [
    "## Get Mars Facts"
   ]
  },
  {
   "cell_type": "code",
   "execution_count": 107,
   "metadata": {},
   "outputs": [],
   "source": [
    "url = 'https://space-facts.com/mars/'\n",
    "tables = pd.read_html(url)"
   ]
  },
  {
   "cell_type": "code",
   "execution_count": 134,
   "metadata": {},
   "outputs": [
    {
     "data": {
      "text/plain": [
       "'<table border=\"1\" class=\"dataframe\">\\n  <thead>\\n    <tr style=\"text-align: right;\">\\n      <th></th>\\n      <th>Metric</th>\\n      <th>Value</th>\\n    </tr>\\n  </thead>\\n  <tbody>\\n    <tr>\\n      <th>0</th>\\n      <td>Equatorial Diameter:</td>\\n      <td>6,792 km</td>\\n    </tr>\\n    <tr>\\n      <th>1</th>\\n      <td>Polar Diameter:</td>\\n      <td>6,752 km</td>\\n    </tr>\\n    <tr>\\n      <th>2</th>\\n      <td>Mass:</td>\\n      <td>6.39 × 10^23 kg (0.11 Earths)</td>\\n    </tr>\\n    <tr>\\n      <th>3</th>\\n      <td>Moons:</td>\\n      <td>2 (Phobos &amp; Deimos)</td>\\n    </tr>\\n    <tr>\\n      <th>4</th>\\n      <td>Orbit Distance:</td>\\n      <td>227,943,824 km (1.38 AU)</td>\\n    </tr>\\n    <tr>\\n      <th>5</th>\\n      <td>Orbit Period:</td>\\n      <td>687 days (1.9 years)</td>\\n    </tr>\\n    <tr>\\n      <th>6</th>\\n      <td>Surface Temperature:</td>\\n      <td>-87 to -5 °C</td>\\n    </tr>\\n    <tr>\\n      <th>7</th>\\n      <td>First Record:</td>\\n      <td>2nd millennium BC</td>\\n    </tr>\\n    <tr>\\n      <th>8</th>\\n      <td>Recorded By:</td>\\n      <td>Egyptian astronomers</td>\\n    </tr>\\n  </tbody>\\n</table>'"
      ]
     },
     "execution_count": 134,
     "metadata": {},
     "output_type": "execute_result"
    }
   ],
   "source": [
    "myfacts_df = tables[0]\n",
    "myfacts_df['Metric'] = myfacts_df.iloc[:,0]\n",
    "myfacts_df['Value'] = myfacts_df.iloc[:,1]\n",
    "myfacts_df = myfacts_df.iloc[:,2:4]\n",
    "myfacts_df.to_html()"
   ]
  },
  {
   "cell_type": "code",
   "execution_count": 136,
   "metadata": {},
   "outputs": [
    {
     "data": {
      "text/plain": [
       "'<table border=\"1\" class=\"dataframe\">  <thead>    <tr style=\"text-align: right;\">      <th></th>      <th>Metric</th>      <th>Value</th>    </tr>  </thead>  <tbody>    <tr>      <th>0</th>      <td>Equatorial Diameter:</td>      <td>6,792 km</td>    </tr>    <tr>      <th>1</th>      <td>Polar Diameter:</td>      <td>6,752 km</td>    </tr>    <tr>      <th>2</th>      <td>Mass:</td>      <td>6.39 × 10^23 kg (0.11 Earths)</td>    </tr>    <tr>      <th>3</th>      <td>Moons:</td>      <td>2 (Phobos &amp; Deimos)</td>    </tr>    <tr>      <th>4</th>      <td>Orbit Distance:</td>      <td>227,943,824 km (1.38 AU)</td>    </tr>    <tr>      <th>5</th>      <td>Orbit Period:</td>      <td>687 days (1.9 years)</td>    </tr>    <tr>      <th>6</th>      <td>Surface Temperature:</td>      <td>-87 to -5 °C</td>    </tr>    <tr>      <th>7</th>      <td>First Record:</td>      <td>2nd millennium BC</td>    </tr>    <tr>      <th>8</th>      <td>Recorded By:</td>      <td>Egyptian astronomers</td>    </tr>  </tbody></table>'"
      ]
     },
     "execution_count": 136,
     "metadata": {},
     "output_type": "execute_result"
    }
   ],
   "source": [
    "url = 'https://space-facts.com/mars/'\n",
    "tables = pd.read_html(url)\n",
    "myfacts_df = tables[0]\n",
    "myfacts_df['Metric'] = myfacts_df.iloc[:,0]\n",
    "myfacts_df['Value'] = myfacts_df.iloc[:,1]\n",
    "myfacts_df = myfacts_df.iloc[:,2:4]\n",
    "myfacts_str = myfacts_df.to_html()\n",
    "myfacts_str = myfacts_str.replace('\\n', '')\n",
    "myfacts_str"
   ]
  },
  {
   "cell_type": "code",
   "execution_count": 110,
   "metadata": {},
   "outputs": [
    {
     "data": {
      "text/plain": [
       "'<table border=\"1\" class=\"dataframe\">  <thead>    <tr style=\"text-align: right;\">      <th></th>      <th>0</th>      <th>1</th>    </tr>  </thead>  <tbody>    <tr>      <th>0</th>      <td>Equatorial Diameter:</td>      <td>6,792 km</td>    </tr>    <tr>      <th>1</th>      <td>Polar Diameter:</td>      <td>6,752 km</td>    </tr>    <tr>      <th>2</th>      <td>Mass:</td>      <td>6.39 × 10^23 kg (0.11 Earths)</td>    </tr>    <tr>      <th>3</th>      <td>Moons:</td>      <td>2 (Phobos &amp; Deimos)</td>    </tr>    <tr>      <th>4</th>      <td>Orbit Distance:</td>      <td>227,943,824 km (1.38 AU)</td>    </tr>    <tr>      <th>5</th>      <td>Orbit Period:</td>      <td>687 days (1.9 years)</td>    </tr>    <tr>      <th>6</th>      <td>Surface Temperature:</td>      <td>-87 to -5 °C</td>    </tr>    <tr>      <th>7</th>      <td>First Record:</td>      <td>2nd millennium BC</td>    </tr>    <tr>      <th>8</th>      <td>Recorded By:</td>      <td>Egyptian astronomers</td>    </tr>  </tbody></table>'"
      ]
     },
     "execution_count": 110,
     "metadata": {},
     "output_type": "execute_result"
    }
   ],
   "source": [
    "myfacts_str = myfacts_df.to_html()\n",
    "myfacts_str = myfacts_str.replace('\\n', '')\n",
    "myfacts_str"
   ]
  },
  {
   "cell_type": "markdown",
   "metadata": {},
   "source": [
    "## Mars Hemispheres"
   ]
  },
  {
   "cell_type": "code",
   "execution_count": 117,
   "metadata": {},
   "outputs": [
    {
     "data": {
      "text/plain": [
       "'<html lang=\"en\"><head>\\n\\t\\t<link rel=\"stylesheet\" type=\"text/css\" href=\"//ajax.googleapis.com/ajax/libs/jqueryui/1.11.3/themes/smoothness/jquery-ui.css\">\\n<title>Astropedia Search Results | USGS Astrogeology Science Center</title>\\n\\t\\t<meta name=\"description\" content=\"USGS Astrogeology Science Center Astropedia search results.\">\\n\\t\\t<meta name=\"keywords\" content=\"USGS,Astrogeology Science Center,Cartography,Geology,Space,Geological Survey,Mapping\">\\n\\t\\t<meta http-equiv=\"X-UA-Compatible\" content=\"IE=edge\">\\n\\t\\t<meta http-equiv=\"Content-Type\" content=\"text/html; charset=utf-8\">\\n\\t\\t<meta name=\"viewport\" content=\"width=device-width, initial-scale=1, maximum-scale=1\">\\n\\t\\t<meta name=\"google-site-verification\" content=\"x61hXXVj7wtfBSNOPnTftajMsZ5yB2W-qRoyr7GtOKM\">\\n\\t\\t<!--<link rel=\"stylesheet\" href=\"http://fonts.googleapis.com/css?family=Open+Sans:400italic,400,bold\"/>-->\\n\\t\\t<link rel=\"stylesheet\" media=\"screen\" href=\"/css/main.css\">\\n\\t\\t<link rel=\"stylesheet\" media=\"print\" href=\"/css/print.css\">\\n\\t\\t<!--[if lt IE 9]>\\n\\t\\t\\t<script src=\"http://html5shiv.googlecode.com/svn/trunk/html5.js\"></script>\\n\\t\\t\\t<script src=\"/js/respond.min.js\"></script>\\n\\t\\t\\t<link rel=\"stylesheet\" type=\"text/css\" href=\"/css/ie.css\"/>\\n                        <script>\\n                          document.createElement(\\'header\\');\\n                          document.createElement(\\'nav\\');\\n                          document.createElement(\\'section\\');\\n                          document.createElement(\\'article\\');\\n                          document.createElement(\\'aside\\');\\n                          document.createElement(\\'footer\\');\\n                          document.createElement(\\'hgroup\\');\\n                        </script>\\n                  <![endif]-->\\n\\t\\t<link rel=\"icon\" type=\"image/x-ico\" href=\"/favicon.ico\">\\n\\t</head>\\n\\t<body id=\"results\">\\n\\t\\t<header>\\n<!--\\n\\t\\t\\t<h1>Astrogeology Science Center</h1>\\n-->\\n\\t\\t\\t<a href=\"https://www.usgs.gov/centers/astrogeo-sc\" style=\"float:right;margin-top:10px;\">\\n\\t\\t\\t\\t<img class=\"logo\" height=\"60\" src=\"/images/usgs_logo_main_2x.png\" alt=\"USGS: Science for a Changing World\">\\n\\t\\t\\t</a>\\n\\t\\t\\t<a href=\"https://nasa.gov\" style=\"float:right;margin-top:5px;margin-right:20px;\">\\n\\t\\t\\t\\t<img class=\"logo\" height=\"65\" src=\"/images/logos/nasa-logo-web-med.png\" alt=\"NASA\">\\n\\t\\t\\t</a>\\n\\t\\t\\t<a href=\"https://pds-imaging.jpl.nasa.gov/\" style=\"float:right;margin-top:5px;margin-right: 10px;\">\\n\\t\\t\\t\\t<img class=\"logo\" height=\"65\" src=\"/images/pds_logo-invisible-web.png\" alt=\"PDS Cartography and Imaging Science Node\">\\n\\t\\t\\t</a>\\n\\t\\t</header>\\n\\t\\t<div class=\"wrapper\">\\n<!--\\n\\t\\t\\t<nav>\\n\\t\\t\\t\\t<a id=\"nav-toggle\" href=\"#\" title=\"Navigation Menu\">Menu</a>\\n<ul class=\"dropdown dropdown-horizontal\" id=\"yw0\">\\n<li><a href=\"/\">Home</a></li>\\n<li><a href=\"/about\">About</a>\\n<ul>\\n<li><a href=\"/about/careers\">Careers</a></li>\\n<li><a href=\"/contact\">Contact</a></li>\\n<li><a href=\"/about/events\">Events</a></li>\\n<li><a href=\"/site/glossary\">Glossary</a></li>\\n<li><a href=\"/about/mission\">Mission</a></li>\\n<li><a href=\"/news\">News</a></li>\\n<li><a href=\"/people\">People</a></li>\\n<li><a href=\"/about/using-our-images\">Using Our Images</a></li>\\n<li><a href=\"/about/visitors\">Visitors</a></li>\\n</ul>\\n</li>\\n<li><a href=\"/facilities\">Labs / Facilities</a>\\n<ul>\\n<li><a href=\"/facilities/flynn-creek-crater-sample-collection\">Flynn Creek Crater Sample Collection</a></li>\\n<li><a href=\"http://www.moon-cal.org\">Lunar Calibration Project</a></li>\\n<li><a href=\"/facilities/meteor-crater-sample-collection\">Meteor Crater Sample Collection</a></li>\\n<li><a href=\"/facilities/mrctr\">MRCTR GIS Lab</a></li>\\n<li><a href=\"/facilities/cartography-and-imaging-sciences-node-of-nasa-planetary-data-system\">PDS Cartography and Imaging Sciences Node</a></li>\\n<li><a href=\"/pds/annex\">PDS IMG Annex</a></li>\\n<li><a href=\"/facilities/photogrammetry-guest-facility\">Photogrammetry Guest Facility</a></li>\\n<li><a href=\"/rpif\">Regional Planetary Information Facility (RPIF)</a></li>\\n</ul>\\n</li>\\n<li><a href=\"/maps\">Maps / Products</a>\\n<ul>\\n<li><a href=\"/search\">Product Search</a></li>\\n<li><a href=\"http://planetarynames.wr.usgs.gov\">Gazetteer of Planetary Nomenclature</a></li>\\n<li><a href=\"http://planetarymapping.wr.usgs.gov\">Geologic Mapping Program</a></li>\\n<li><a href=\"http://pilot.wr.usgs.gov\">Planetary Image Locator Tool (PILOT)</a></li>\\n<li><a href=\"/search/planetary-index\">Planetary Map Index</a></li>\\n</ul>\\n</li>\\n<li><a href=\"/geology\">Missions / Research</a>\\n<ul>\\n<li><a href=\"/geology/mars-dunes\">Mars Dunes</a></li>\\n<li><a href=\"/geology/mars-ice\">Mars Ice</a></li>\\n<li><a href=\"/missions\">Mission Support</a></li>\\n<li><a href=\"/solar-system\">Solar System</a></li>\\n<li><a href=\"/groups\">Working Groups</a></li>\\n</ul>\\n</li>\\n<li><a href=\"/tools\">Tools</a>\\n<ul>\\n<li><a href=\"http://planetarynames.wr.usgs.gov\">Gazetteer of Planetary Nomenclature</a></li>\\n<li><a href=\"http://isis.astrogeology.usgs.gov\">Integrated Software for Imagers and Spectrometers (ISIS)</a></li>\\n<li><a href=\"http://astrogeology.usgs.gov/tools/map-a-planet-2\">Map a Planet 2</a></li>\\n<li><a href=\"http://pilot.wr.usgs.gov\">Planetary Image Locator Tool (PILOT)</a></li>\\n<li><a href=\"http://astrocloud.wr.usgs.gov/\">Projection on the Web (POW)</a></li>\\n</ul>\\n</li>\\n</ul>\\t\\t\\t\\t<form id=\"search\" class=\"search\" action=\"/search/results\" method=\"get\">\\n\\t\\t\\t\\t\\t<input type=\"submit\" value=\"\" title=\"Search Astropedia\"/>\\n\\t\\t\\t\\t\\t<input type=\"text\" placeholder=\"Search\" name=\"q\"/>\\n\\t\\t\\t\\t</form>\\n\\t\\t\\t</nav>\\n-->\\n\\t\\t\\t<div class=\"container\">\\n\\t\\t\\t\\t<div class=\"widget block bar\">\\n  <a style=\"float:right;text-decoration:none;\" href=\"/search\">\\n\\t\\t<img style=\"width:200px;border:none;float:right;\" src=\"/images/astropedia/astropedia-logo-main.png\" alt=\"Astropedia\">\\n\\t\\t<div style=\"clear:both;font-size:.8em;float:right;color:#888;\">Lunar and Planetary Cartographic Catalog</div>\\n  </a>\\n   <div style=\"float:left;height:60px;\">\\n   </div>\\n</div>\\n<form id=\"search-bar\" class=\"bar widget block\" action=\"/search/results\">\\n  <input type=\"hidden\" value=\"hemisphere-enhanced\" name=\"q\">\\n  <input type=\"hidden\" value=\"Mars\" name=\"target\"><input type=\"hidden\" name=\"__ncforminfo\" value=\"aU-Oi5tUyKr9rzXtSWey6aMAANB5wPmy53_rs9lTZ9hPO5bqJWNxlKxNElcV9NrNU0s1IvoLNPDUp5BR-0OaKYCf_B83Gnf0u2_b4AAxoM7r2I_-CinuCw==\"></form><div class=\"full-content\">\\n\\t<section id=\"results-accordian\" class=\"block\">\\n\\t<div id=\"product-section\" data-section=\"product\" class=\"result-list\">\\n\\t\\t<div class=\"accordian\">\\n\\t\\t\\t<h2>Products</h2>\\n\\t\\t\\t<span class=\"count\">4 Results</span>\\n\\t\\t\\t<span class=\"collapse\">Collapse</span>\\n\\t\\t</div>\\n\\t\\t<div class=\"collapsible results\">\\n<div class=\"item\"><a href=\"/search/map/Mars/Viking/cerberus_enhanced\" class=\"itemLink product-item\"><img class=\"thumb\" src=\"/cache/images/dfaf3849e74bf973b59eb50dab52b583_cerberus_enhanced.tif_thumb.png\" alt=\"Cerberus Hemisphere Enhanced thumbnail\"></a><div class=\"description\"><a href=\"/search/map/Mars/Viking/cerberus_enhanced\" class=\"itemLink product-item\"><h3>Cerberus Hemisphere Enhanced</h3></a><span class=\"subtitle\" style=\"float:left\">image/tiff 21 MB</span><span class=\"pubDate\" style=\"float:right\"></span><br><p>Mosaic of the Cerberus hemisphere of Mars projected into point perspective, a view similar to that which one would see from a spacecraft. This mosaic is composed of 104 Viking Orbiter images acquired…</p></div> <!-- end description --></div><div class=\"item\"><a href=\"/search/map/Mars/Viking/schiaparelli_enhanced\" class=\"itemLink product-item\"><img class=\"thumb\" src=\"/cache/images/7677c0a006b83871b5a2f66985ab5857_schiaparelli_enhanced.tif_thumb.png\" alt=\"Schiaparelli Hemisphere Enhanced thumbnail\"></a><div class=\"description\"><a href=\"/search/map/Mars/Viking/schiaparelli_enhanced\" class=\"itemLink product-item\"><h3>Schiaparelli Hemisphere Enhanced</h3></a><span class=\"subtitle\" style=\"float:left\">image/tiff 35 MB</span><span class=\"pubDate\" style=\"float:right\"></span><br><p>Mosaic of the Schiaparelli hemisphere of Mars projected into point perspective, a view similar to that which one would see from a spacecraft. The images were acquired in 1980 during early northern…</p></div> <!-- end description --></div><div class=\"item\"><a href=\"/search/map/Mars/Viking/syrtis_major_enhanced\" class=\"itemLink product-item\"><img class=\"thumb\" src=\"/cache/images/aae41197e40d6d4f3ea557f8cfe51d15_syrtis_major_enhanced.tif_thumb.png\" alt=\"Syrtis Major Hemisphere Enhanced thumbnail\"></a><div class=\"description\"><a href=\"/search/map/Mars/Viking/syrtis_major_enhanced\" class=\"itemLink product-item\"><h3>Syrtis Major Hemisphere Enhanced</h3></a><span class=\"subtitle\" style=\"float:left\">image/tiff 25 MB</span><span class=\"pubDate\" style=\"float:right\"></span><br><p>Mosaic of the Syrtis Major hemisphere of Mars projected into point perspective, a view similar to that which one would see from a spacecraft. This mosaic is composed of about 100 red and violet…</p></div> <!-- end description --></div><div class=\"item\"><a href=\"/search/map/Mars/Viking/valles_marineris_enhanced\" class=\"itemLink product-item\"><img class=\"thumb\" src=\"/cache/images/04085d99ec3713883a9a57f42be9c725_valles_marineris_enhanced.tif_thumb.png\" alt=\"Valles Marineris Hemisphere Enhanced thumbnail\"></a><div class=\"description\"><a href=\"/search/map/Mars/Viking/valles_marineris_enhanced\" class=\"itemLink product-item\"><h3>Valles Marineris Hemisphere Enhanced</h3></a><span class=\"subtitle\" style=\"float:left\">image/tiff 27 MB</span><span class=\"pubDate\" style=\"float:right\"></span><br><p>Mosaic of the Valles Marineris hemisphere of Mars projected into point perspective, a view similar to that which one would see from a spacecraft. The distance is 2500 kilometers from the surface of…</p></div> <!-- end description --></div><script type=\"text/javascript\" async=\"\" src=\"https://ssl.google-analytics.com/ga.js\"></script><script>addBases=[];;if(typeof resetLayerSwitcher===\"function\"){resetLayerSwitcher(false)};var productTotal = 4;</script>\\n</div> <!-- end this-section -->\\n\\n\\n\\n\\t</div></section>\\n</div>\\n\\n\\t\\t\\t</div>\\n\\t\\t\\t\\t\\t\\t\\t<div class=\"icons projects black scroll-wrapper\">\\n\\t\\t\\t\\t\\t<div class=\"scroll\">\\n\\t\\t\\t\\t\\t\\t<a title=\"Integrated Software for Imagers and Spectrometers\" href=\"http://isis.astrogeology.usgs.gov\" class=\"icon\">\\n\\t\\t\\t\\t\\t\\t\\t<img alt=\"ISIS Logo\" height=\"112\" width=\"112\" src=\"/images/logos/isis_2x.jpg\">\\n\\t\\t\\t\\t\\t\\t\\t<span class=\"label\">ISIS</span>\\n\\t\\t\\t\\t\\t\\t</a>\\n\\t\\t\\t\\t\\t\\t<a title=\"Gazetteer of Planetary Nomenclature\" href=\"http://planetarynames.wr.usgs.gov\" class=\"icon\">\\n\\t\\t\\t\\t\\t\\t\\t<img alt=\"Nomenclature Logo\" height=\"112\" width=\"112\" src=\"/images/logos/nomenclature_2x.jpg\">\\n\\t\\t\\t\\t\\t\\t\\t<span class=\"label\">Planetary Nomenclature</span>\\n\\t\\t\\t\\t\\t\\t</a>\\n\\t\\t\\t\\t\\t\\t<a title=\"Map a Planet 2\" href=\"https://astrogeology.usgs.gov/tools/map-a-planet-2\" class=\"icon\">\\n\\t\\t\\t\\t\\t\\t\\t<img alt=\"Map-a-Planet Logo\" height=\"112\" width=\"112\" src=\"/images/logos/map_a_planet_2x.jpg\">\\n\\t\\t\\t\\t\\t\\t\\t<span class=\"label\">Map a Planet 2</span>\\n\\t\\t\\t\\t\\t\\t</a>\\n\\t\\t\\t\\t\\t\\t<a title=\"PDS Cartography and Imaging Science Node\" href=\"https://www.usgs.gov/centers/astrogeo-sc/science/cartography-and-imaging-sciences-node-nasa-planetary-data-system\" class=\"icon\">\\n\\t\\t\\t\\t\\t\\t\\t<img alt=\"PDS Logo\" height=\"112\" src=\"/images/pds_logo-black-web.png\">\\n\\t\\t\\t\\t\\t\\t\\t<span class=\"label\">PDS Cartography and Imaging Science Node</span>\\n\\t\\t\\t\\t\\t\\t</a>\\n<!--\\n\\t\\t\\t\\t\\t\\t<a title=\"Astropedia Search\" href=\"/search\" class=\"icon\">\\n\\t\\t\\t\\t\\t\\t\\t<img alt=\"Astropedia Logo\" height=\"112\" width=\"112\" src=\"/images/logos/astropedia_2x.jpg\"/>\\n\\t\\t\\t\\t\\t\\t\\t<span class=\"label\">Astropedia</span>\\n\\t\\t\\t\\t\\t\\t</a>\\n-->\\n\\t\\t\\t\\t\\t\\t<a title=\"Regional Planetary Image Facility\" href=\"https://www.usgs.gov/centers/astrogeo-sc/science/regional-planetary-image-facility-rpif\" class=\"icon\">\\n\\t\\t\\t\\t\\t\\t\\t<img alt=\"RPIF Logo\" height=\"112\" width=\"112\" src=\"/images/logos/rpif_2x.jpg\">\\n\\t\\t\\t\\t\\t\\t\\t<span class=\"label\">RPIF</span>\\n\\t\\t\\t\\t\\t\\t</a>\\n\\t\\t\\t\\t\\t\\t<a title=\"Photogrammetry Guest Facility\" href=\"https://www.usgs.gov/centers/astrogeo-sc/science/usgsnasa-planetary-photogrammetry-guest-facility\" class=\"icon\">\\n\\t\\t\\t\\t\\t\\t\\t<img alt=\"Photogrammetry Guest Faciltiy Logo\" height=\"112\" width=\"112\" src=\"/images/logos/photogrammetry_2x.jpg\">\\n\\t\\t\\t\\t\\t\\t\\t<span class=\"label\">Photogrammetry Guest Facility</span>\\n\\t\\t\\t\\t\\t\\t</a>\\n\\t\\t\\t\\t\\t\\t<a title=\"Planetary Image Locator Tool\" href=\"http://pilot.wr.usgs.gov\" class=\"icon\">\\n\\t\\t\\t\\t\\t\\t\\t<img alt=\"Pilot Logo\" height=\"112\" width=\"112\" src=\"/images/logos/pilot_2x.jpg\">\\n\\t\\t\\t\\t\\t\\t\\t<span class=\"label\">PILOT</span>\\n\\t\\t\\t\\t\\t\\t</a>\\n\\t\\t\\t\\t\\t\\t<a title=\"Mapping, Remote-sensing, Cartography, Technology and Research GIS Lab\" href=\"https://www.usgs.gov/centers/astrogeo-sc/science/mrctr-gis-lab\" class=\"icon\">\\n\\t\\t\\t\\t\\t\\t\\t<img alt=\"MRCTR GIS Lab Logo\" height=\"112\" width=\"112\" src=\"/images/logos/mrctr_man_2x.png\">\\n\\t\\t\\t\\t\\t\\t\\t<span class=\"label\">MRCTR GIS Lab</span>\\n\\t\\t\\t\\t\\t\\t</a>\\n\\t\\t\\t\\t\\t</div>\\n\\t\\t\\t\\t</div>\\n\\t\\t\\t\\t\\t\\t<footer>\\n\\t\\t\\t\\t<div class=\"left\">\\n\\t\\t\\t\\t\\t<a href=\"http://astrogeology.usgs.gov/search\">Search</a> |\\n\\t\\t\\t\\t\\t<a href=\"http://astrogeology.usgs.gov/maps/about\">About</a> |\\n\\t\\t\\t\\t\\t<a href=\"http://astrogeology.usgs.gov/maps/contact\">Contact</a>\\n\\t\\t\\t\\t</div>\\n\\t\\t\\t\\t<div class=\"right\">\\n                                        <a href=\"https://www.usgs.gov/centers/astrogeo-sc\">USGS Astrogeology Science Center</a>\\n\\t\\t\\t\\t</div>\\n\\t\\t\\t</footer>\\n\\t\\t</div>\\n<!--\\n\\t\\t<div class=\"credit\">\\n\\t\\t\\t<small>Background Credits: NASA/USGS</small>\\n\\t\\t</div>\\n-->\\n\\t\\t<div class=\"page-background\" style=\"\\n\\t\\t\\tbackground:url(\\'/images/backgrounds/mars.jpg\\');\\n\\t\\t\\tfilter:progid:DXImageTransform.Microsoft.AlphaImageLoader(\\n\\t\\t\\t\\tsrc=\\'/images/backgrounds/mars.jpg\\', sizingMethod=\\'scale\\');\\n\\t\\t\"></div>\\n\\t\\t<script type=\"text/javascript\">\\nvar baseUrl = \"\";\\n\\n\\nvar _gaq = _gaq || [];_gaq.push([\\'_setAccount\\', \\'UA-27613186-1\\']);_gaq.push([\\'_trackPageview\\']);(function() { var ga = document.createElement(\\'script\\'); ga.type = \\'text/javascript\\'; ga.async = true;ga.src = (\\'https:\\' == document.location.protocol ? \\'https://ssl\\' : \\'http://www\\') + \\'.google-analytics.com/ga.js\\'; var s = document.getElementsByTagName(\\'script\\')[0]; s.parentNode.insertBefore(ga, s);})();\\n\\n\\t\\t</script>\\n\\t<script type=\"text/javascript\" src=\"https://ajax.googleapis.com/ajax/libs/jquery/1.11.1/jquery.min.js\"></script>\\n<script type=\"text/javascript\" src=\"//ajax.googleapis.com/ajax/libs/jqueryui/1.11.3/jquery-ui.min.js\"></script>\\n<script type=\"text/javascript\" src=\"/js/general.js\"></script>\\n\\n\\n</body></html>'"
      ]
     },
     "execution_count": 117,
     "metadata": {},
     "output_type": "execute_result"
    }
   ],
   "source": [
    "url = 'https://astrogeology.usgs.gov/search/results?q=hemisphere+enhanced&k1=target&v1=Mars'\n",
    "browser.visit(url)\n",
    "html = browser.html\n",
    "soup = BeautifulSoup(html, 'html.parser')\n",
    "html"
   ]
  },
  {
   "cell_type": "code",
   "execution_count": 112,
   "metadata": {},
   "outputs": [],
   "source": [
    "my_hems_titles = soup.find_all('div', class_='description')"
   ]
  },
  {
   "cell_type": "code",
   "execution_count": 113,
   "metadata": {},
   "outputs": [],
   "source": [
    "titles = []\n",
    "for item in my_hems_titles:\n",
    "    titles.append(item.find('h3').text)"
   ]
  },
  {
   "cell_type": "code",
   "execution_count": 114,
   "metadata": {},
   "outputs": [],
   "source": [
    "img_urls = ['https://astrogeology.usgs.gov/cache/images/dfaf3849e74bf973b59eb50dab52b583_cerberus_enhanced.tif_thumb.png', 'https://astrogeology.usgs.gov/cache/images/7677c0a006b83871b5a2f66985ab5857_schiaparelli_enhanced.tif_thumb.png', 'https://astrogeology.usgs.gov/cache/images/aae41197e40d6d4f3ea557f8cfe51d15_syrtis_major_enhanced.tif_thumb.png', 'https://astrogeology.usgs.gov/cache/images/04085d99ec3713883a9a57f42be9c725_valles_marineris_enhanced.tif_thumb.png']"
   ]
  },
  {
   "cell_type": "code",
   "execution_count": 115,
   "metadata": {},
   "outputs": [],
   "source": [
    "hemisphere_image_urls = [\n",
    "    {\"title\": titles[0], \"img_url\": img_urls[0]},\n",
    "    {\"title\": titles[1], \"img_url\": img_urls[1]},\n",
    "    {\"title\": titles[2], \"img_url\": img_urls[2]},\n",
    "    {\"title\": titles[3], \"img_url\": img_urls[3]},\n",
    "]"
   ]
  },
  {
   "cell_type": "code",
   "execution_count": null,
   "metadata": {},
   "outputs": [],
   "source": []
  }
 ],
 "metadata": {
  "kernelspec": {
   "display_name": "Python 3",
   "language": "python",
   "name": "python3"
  },
  "language_info": {
   "codemirror_mode": {
    "name": "ipython",
    "version": 3
   },
   "file_extension": ".py",
   "mimetype": "text/x-python",
   "name": "python",
   "nbconvert_exporter": "python",
   "pygments_lexer": "ipython3",
   "version": "3.7.3"
  }
 },
 "nbformat": 4,
 "nbformat_minor": 2
}
